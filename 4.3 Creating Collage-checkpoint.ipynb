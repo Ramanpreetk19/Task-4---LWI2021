{
 "cells": [
  {
   "cell_type": "code",
   "execution_count": 1,
   "id": "47fb3fff",
   "metadata": {},
   "outputs": [],
   "source": [
    "#importing library\n",
    "import cv2"
   ]
  },
  {
   "cell_type": "code",
   "execution_count": 2,
   "id": "f1567001",
   "metadata": {},
   "outputs": [],
   "source": [
    "import numpy"
   ]
  },
  {
   "cell_type": "code",
   "execution_count": 3,
   "id": "ff381720",
   "metadata": {},
   "outputs": [],
   "source": [
    "#reading & resizing photo1\n",
    "photo1 = cv2.resize(cv2.imread('red rose.jpg'),(300,300))\n",
    "cv2.imshow('image1',photo1)\n",
    "cv2.waitKey()\n",
    "cv2.destroyAllWindows()"
   ]
  },
  {
   "cell_type": "code",
   "execution_count": 4,
   "id": "da857c87",
   "metadata": {},
   "outputs": [],
   "source": [
    "#reading & resizing photo2\n",
    "photo2 = cv2.resize(cv2.imread('pink rose.jpg'),(300,300))\n",
    "cv2.imshow('image2',photo2)\n",
    "cv2.waitKey()\n",
    "cv2.destroyAllWindows()"
   ]
  },
  {
   "cell_type": "code",
   "execution_count": 5,
   "id": "48ef420a",
   "metadata": {},
   "outputs": [],
   "source": [
    "#reading & resizing photo3\n",
    "photo3 = cv2.resize(cv2.imread('yellow rose.jpg'),(300,300)) \n",
    "cv2.imshow('image3',photo3)\n",
    "cv2.waitKey()\n",
    "cv2.destroyAllWindows()"
   ]
  },
  {
   "cell_type": "code",
   "execution_count": 6,
   "id": "8bded7de",
   "metadata": {},
   "outputs": [],
   "source": [
    "#reading & resizing photo4\n",
    "photo4 = cv2.resize(cv2.imread('white rose.jpg'),(300,300))\n",
    "cv2.imshow('image4',photo4)\n",
    "cv2.waitKey()\n",
    "cv2.destroyAllWindows()"
   ]
  },
  {
   "cell_type": "code",
   "execution_count": 7,
   "id": "9d92a863",
   "metadata": {},
   "outputs": [],
   "source": [
    "#creating horizontal collage of photo1 & photo2\n",
    "collage1 = numpy.hstack((photo1,photo2))\n",
    "cv2.imshow('coll1',collage1)\n",
    "cv2.waitKey()\n",
    "cv2.destroyAllWindows()"
   ]
  },
  {
   "cell_type": "code",
   "execution_count": 8,
   "id": "d4505ca5",
   "metadata": {},
   "outputs": [],
   "source": [
    "#creating horizontal collage of photo3 & photo4\n",
    "collage2 = numpy.hstack((photo3,photo4))\n",
    "cv2.imshow('coll2',collage2)\n",
    "cv2.waitKey()\n",
    "cv2.destroyAllWindows()"
   ]
  },
  {
   "cell_type": "code",
   "execution_count": null,
   "id": "3239e2d6",
   "metadata": {},
   "outputs": [],
   "source": [
    "#creating a vertical collage of all 4 photos\n",
    "collage = numpy.vstack((collage1,collage2))\n",
    "cv2.imshow('coll',collage)\n",
    "cv2.waitKey()\n",
    "cv2.destroyAllWindows()"
   ]
  },
  {
   "cell_type": "code",
   "execution_count": null,
   "id": "e95d9c50",
   "metadata": {},
   "outputs": [],
   "source": []
  }
 ],
 "metadata": {
  "kernelspec": {
   "display_name": "Python 3",
   "language": "python",
   "name": "python3"
  },
  "language_info": {
   "codemirror_mode": {
    "name": "ipython",
    "version": 3
   },
   "file_extension": ".py",
   "mimetype": "text/x-python",
   "name": "python",
   "nbconvert_exporter": "python",
   "pygments_lexer": "ipython3",
   "version": "3.8.8"
  }
 },
 "nbformat": 4,
 "nbformat_minor": 5
}
