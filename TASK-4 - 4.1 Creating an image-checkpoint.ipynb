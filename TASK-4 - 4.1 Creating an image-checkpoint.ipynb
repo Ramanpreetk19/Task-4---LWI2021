{
 "cells": [
  {
   "cell_type": "code",
   "execution_count": 1,
   "id": "c0922a61",
   "metadata": {},
   "outputs": [],
   "source": [
    "#importing libraries\n",
    "import cv2"
   ]
  },
  {
   "cell_type": "code",
   "execution_count": 2,
   "id": "6d720fb5",
   "metadata": {},
   "outputs": [],
   "source": [
    "import numpy"
   ]
  },
  {
   "cell_type": "code",
   "execution_count": 3,
   "id": "1c23e10b",
   "metadata": {},
   "outputs": [],
   "source": [
    "#creating an array \"image\"\n",
    "photo=numpy.zeros([1000,1000,3])\n",
    "cv2.imshow('image',photo)\n",
    "cv2.waitKey()\n",
    "cv2.destroyAllWindows()\n"
   ]
  },
  {
   "cell_type": "code",
   "execution_count": 4,
   "id": "e4e3b99e",
   "metadata": {},
   "outputs": [],
   "source": [
    "#creating a slant line 'l1'\n",
    "l1=cv2.line(photo,(100,100),(500,500),[25,255,255],5)\n",
    "cv2.imshow('image',l1)\n",
    "cv2.waitKey()\n",
    "cv2.destroyAllWindows()"
   ]
  },
  {
   "cell_type": "code",
   "execution_count": 5,
   "id": "6334cf22",
   "metadata": {},
   "outputs": [],
   "source": [
    "#creating a slant line 'l2'\n",
    "l2=cv2.line(photo,(500,100),(100,500),[25,255,255],5)\n",
    "cv2.imshow('image',l2)\n",
    "cv2.waitKey()\n",
    "cv2.destroyAllWindows()"
   ]
  },
  {
   "cell_type": "code",
   "execution_count": 6,
   "id": "c2de6d4d",
   "metadata": {},
   "outputs": [],
   "source": [
    "#creating a reactangle \"r1\" \n",
    "r1 = cv2.rectangle(photo,(500,500),(100,100),[0,88,99],8)\n",
    "cv2.imshow('image',r1)\n",
    "cv2.waitKey()\n",
    "cv2.destroyAllWindows()"
   ]
  },
  {
   "cell_type": "code",
   "execution_count": 7,
   "id": "1c192a53",
   "metadata": {},
   "outputs": [],
   "source": [
    "#creating a circle at lower right corner of rectangle\n",
    "c1=cv2.circle(photo,(500,500),10,[50,0,0],100)\n",
    "cv2.imshow('image',c1)\n",
    "cv2.waitKey()\n",
    "cv2.destroyAllWindows()"
   ]
  },
  {
   "cell_type": "code",
   "execution_count": 8,
   "id": "5e607cc2",
   "metadata": {},
   "outputs": [],
   "source": [
    "#creating a circle at upper left corner of rectangle\n",
    "c2=cv2.circle(photo,(100,100),10,[0,55,0],100)\n",
    "cv2.imshow('image',c2)\n",
    "cv2.waitKey()\n",
    "cv2.destroyAllWindows()"
   ]
  },
  {
   "cell_type": "code",
   "execution_count": 9,
   "id": "8bed3174",
   "metadata": {},
   "outputs": [],
   "source": [
    "#creating a circle at lower left corner of rectangle\n",
    "c3=cv2.circle(photo,(100,500),10,[88,0,255],100)\n",
    "cv2.imshow('image',c3)\n",
    "cv2.waitKey()\n",
    "cv2.destroyAllWindows()"
   ]
  },
  {
   "cell_type": "code",
   "execution_count": 10,
   "id": "699014d4",
   "metadata": {},
   "outputs": [],
   "source": [
    "#creating a circle at upper right corner of rectangle\n",
    "c4=cv2.circle(photo,(500,100),10,[0,0,50],100)\n",
    "cv2.imshow('image',c4)\n",
    "cv2.waitKey()\n",
    "cv2.destroyAllWindows()"
   ]
  },
  {
   "cell_type": "code",
   "execution_count": 11,
   "id": "ba77cf59",
   "metadata": {},
   "outputs": [],
   "source": [
    "#creating an inner circle inside the lower right circle \n",
    "c5=cv2.circle(photo,(500,500),8,[100,50,50],40)\n",
    "cv2.imshow('image',c5)\n",
    "cv2.waitKey()\n",
    "cv2.destroyAllWindows()"
   ]
  },
  {
   "cell_type": "code",
   "execution_count": 12,
   "id": "b5bbaa29",
   "metadata": {},
   "outputs": [],
   "source": [
    "#creating an inner circle inside the upper right circle \n",
    "c6=cv2.circle(photo,(500,100),8,[100,250,50],40)\n",
    "cv2.imshow('image',c6)\n",
    "cv2.waitKey()\n",
    "cv2.destroyAllWindows()"
   ]
  },
  {
   "cell_type": "code",
   "execution_count": 13,
   "id": "41d74d8d",
   "metadata": {},
   "outputs": [],
   "source": [
    "#creating an inner circle inside the lower left circle \n",
    "c7=cv2.circle(photo,(100,500),8,[100,250,50],40)\n",
    "cv2.imshow('image',c7)\n",
    "cv2.waitKey()\n",
    "cv2.destroyAllWindows()"
   ]
  },
  {
   "cell_type": "code",
   "execution_count": 14,
   "id": "75dbee74",
   "metadata": {},
   "outputs": [],
   "source": [
    "#creating an inner circle inside the upper left circle \n",
    "c8=cv2.circle(photo,(100,100),8,[100,250,50],40)\n",
    "cv2.imshow('image',c8)\n",
    "cv2.waitKey()\n",
    "cv2.destroyAllWindows()"
   ]
  },
  {
   "cell_type": "code",
   "execution_count": null,
   "id": "7cc4dc84",
   "metadata": {},
   "outputs": [],
   "source": []
  }
 ],
 "metadata": {
  "kernelspec": {
   "display_name": "Python 3",
   "language": "python",
   "name": "python3"
  },
  "language_info": {
   "codemirror_mode": {
    "name": "ipython",
    "version": 3
   },
   "file_extension": ".py",
   "mimetype": "text/x-python",
   "name": "python",
   "nbconvert_exporter": "python",
   "pygments_lexer": "ipython3",
   "version": "3.8.8"
  }
 },
 "nbformat": 4,
 "nbformat_minor": 5
}
