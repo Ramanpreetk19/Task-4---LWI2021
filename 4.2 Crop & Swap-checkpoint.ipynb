{
 "cells": [
  {
   "cell_type": "code",
   "execution_count": 1,
   "id": "19e19e1b",
   "metadata": {},
   "outputs": [],
   "source": [
    "#importing libraries\n",
    "import cv2\n",
    "import numpy"
   ]
  },
  {
   "cell_type": "code",
   "execution_count": 2,
   "id": "59a1a91f",
   "metadata": {},
   "outputs": [],
   "source": [
    "#reading & resizing photo1\n",
    "photo1=cv2.resize(cv2.imread('rose.jpg'),(400,400))\n",
    "cv2.imshow('image',photo1)\n",
    "cv2.waitKey()\n",
    "cv2.destroyAllWindows()"
   ]
  },
  {
   "cell_type": "code",
   "execution_count": 3,
   "id": "1a2ebe71",
   "metadata": {},
   "outputs": [],
   "source": [
    "#reading & resizing photo2\n",
    "photo2=cv2.resize(cv2.imread('lotus.jpg'),(400,400))\n",
    "cv2.imshow('image',photo2)\n",
    "cv2.waitKey()\n",
    "cv2.destroyAllWindows()"
   ]
  },
  {
   "cell_type": "code",
   "execution_count": 4,
   "id": "3400fd13",
   "metadata": {},
   "outputs": [],
   "source": [
    "#creating the collage of photo1 & photo2 horizontally\n",
    "collage=numpy.hstack((photo1,photo2))\n",
    "cv2.imshow('coll',collage)\n",
    "cv2.waitKey()\n",
    "cv2.destroyAllWindows()"
   ]
  },
  {
   "cell_type": "code",
   "execution_count": 7,
   "id": "5ef07cee",
   "metadata": {},
   "outputs": [],
   "source": [
    "#swapping the cropped part of photo1 onto photo2\n",
    "R = photo1[200:300,100:200]\n",
    "photo2[200:300,100:200] = R\n",
    "cv2.imshow('swap1',photo2)\n",
    "cv2.waitKey()\n",
    "cv2.destroyAllWindows()"
   ]
  },
  {
   "cell_type": "code",
   "execution_count": 8,
   "id": "25bb3d6e",
   "metadata": {},
   "outputs": [],
   "source": [
    "#swapping the cropped part of photo2 onto photo1\n",
    "photo2=cv2.resize(cv2.imread('lotus.jpg'),(400,400))\n",
    "L = photo2[200:300,200:300]\n",
    "photo1[200:300,200:300] = L\n",
    "cv2.imshow('swap2',photo1)\n",
    "cv2.waitKey()\n",
    "cv2.destroyAllWindows() "
   ]
  },
  {
   "cell_type": "code",
   "execution_count": null,
   "id": "be02fac9",
   "metadata": {},
   "outputs": [],
   "source": []
  }
 ],
 "metadata": {
  "kernelspec": {
   "display_name": "Python 3",
   "language": "python",
   "name": "python3"
  },
  "language_info": {
   "codemirror_mode": {
    "name": "ipython",
    "version": 3
   },
   "file_extension": ".py",
   "mimetype": "text/x-python",
   "name": "python",
   "nbconvert_exporter": "python",
   "pygments_lexer": "ipython3",
   "version": "3.8.8"
  }
 },
 "nbformat": 4,
 "nbformat_minor": 5
}
